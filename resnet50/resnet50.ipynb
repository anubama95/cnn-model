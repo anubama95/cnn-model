{
 "cells": [
  {
   "cell_type": "code",
   "execution_count": 1,
   "metadata": {},
   "outputs": [],
   "source": [
    "import os\n",
    "import numpy as np\n",
    "import cv2\n",
    "import random"
   ]
  },
  {
   "cell_type": "code",
   "execution_count": 2,
   "metadata": {},
   "outputs": [
    {
     "name": "stderr",
     "output_type": "stream",
     "text": [
      "Using TensorFlow backend.\n"
     ]
    }
   ],
   "source": [
    "from keras import Sequential\n",
    "from keras.layers import Dense, Flatten, GlobalAveragePooling2D, Dropout\n",
    "from keras.applications.resnet50 import ResNet50\n",
    "from keras.applications.resnet50 import preprocess_input as resnet_pi\n",
    "from keras.preprocessing.image import ImageDataGenerator\n",
    "from keras.models import Model\n",
    "import keras"
   ]
  },
  {
   "cell_type": "code",
   "execution_count": 3,
   "metadata": {},
   "outputs": [
    {
     "name": "stderr",
     "output_type": "stream",
     "text": [
      "/home/asus/anaconda3/lib/python3.7/site-packages/keras_applications/resnet50.py:265: UserWarning: The output shape of `ResNet50(include_top=False)` has been changed since Keras 2.2.0.\n",
      "  warnings.warn('The output shape of `ResNet50(include_top=False)` '\n"
     ]
    }
   ],
   "source": [
    "base_model = ResNet50(include_top=False, weights='imagenet',\n",
    "                         input_shape=(224, 224, 3))\n",
    "for layer in base_model.layers:\n",
    "    layer.trainable = False\n",
    "# base_model.summary()"
   ]
  },
  {
   "cell_type": "code",
   "execution_count": 4,
   "metadata": {},
   "outputs": [],
   "source": [
    "x = base_model.output\n",
    "x = Flatten(name='flatten', input_shape=base_model.output_shape)(x) \n",
    "x = Dropout(0.25)(x)\n",
    "x = Dense(33, activation='softmax', name='predictions')(x)\n",
    "model = Model(inputs=base_model.input, outputs=x)\n",
    "# model.summary() # 1M trainable params..."
   ]
  },
  {
   "cell_type": "code",
   "execution_count": 5,
   "metadata": {},
   "outputs": [],
   "source": [
    "model.compile(optimizer='adam', \n",
    "              loss='categorical_crossentropy',\n",
    "              metrics=['accuracy'])"
   ]
  },
  {
   "cell_type": "code",
   "execution_count": 6,
   "metadata": {},
   "outputs": [],
   "source": [
    "\n",
    "train_datagen = ImageDataGenerator(\n",
    "    rescale=1./255,\n",
    "    rotation_range=40,\n",
    "    width_shift_range=0.2,\n",
    "    height_shift_range=0.2,\n",
    "    shear_range=0.2,\n",
    "    zoom_range=0.2,\n",
    "    fill_mode='nearest',\n",
    ")\n",
    "validation_datagen = ImageDataGenerator(\n",
    "    rescale=1./255,\n",
    ")"
   ]
  },
  {
   "cell_type": "code",
   "execution_count": 7,
   "metadata": {},
   "outputs": [
    {
     "name": "stdout",
     "output_type": "stream",
     "text": [
      "Found 22110 images belonging to 33 classes.\n",
      "Found 4132 images belonging to 33 classes.\n"
     ]
    }
   ],
   "source": [
    "train_generator = train_datagen.flow_from_directory(\n",
    "        '/home/asus/Desktop/Dataset_splits/train/', \n",
    "        target_size=(224, 224),\n",
    "        batch_size=128,\n",
    "        class_mode='categorical',\n",
    ")\n",
    "validation_generator = validation_datagen.flow_from_directory(\n",
    "        '/home/asus/Desktop/Dataset_splits/validation/',\n",
    "        target_size=(224, 224),\n",
    "        batch_size=128,\n",
    "        class_mode='categorical',\n",
    ")"
   ]
  },
  {
   "cell_type": "code",
   "execution_count": 8,
   "metadata": {},
   "outputs": [],
   "source": [
    "\n",
    "import tensorflow as tf\n"
   ]
  },
  {
   "cell_type": "code",
   "execution_count": 9,
   "metadata": {},
   "outputs": [
    {
     "name": "stdout",
     "output_type": "stream",
     "text": [
      "Epoch 1/30\n",
      "172/172 [==============================] - 2274s 13s/step - loss: 5.2494 - accuracy: 0.7280 - val_loss: 17.5499 - val_accuracy: 0.1169\n",
      "Epoch 2/30\n",
      "Epoch 1/30\n",
      "172/172 [==============================] - 2061s 12s/step - loss: 2.9176 - accuracy: 0.8335 - val_loss: 24.1059 - val_accuracy: 0.0350\n",
      "Epoch 3/30\n",
      "172/172 [==============================] - 2075s 12s/step - loss: 3.0345 - accuracy: 0.8491 - val_loss: 28.6514 - val_accuracy: 0.0337\n",
      "Epoch 4/30\n",
      "172/172 [==============================] - 2045s 12s/step - loss: 2.9299 - accuracy: 0.8653 - val_loss: 28.9080 - val_accuracy: 0.0387\n",
      "Epoch 5/30\n",
      "172/172 [==============================] - 2259s 13s/step - loss: 2.8241 - accuracy: 0.8724 - val_loss: 30.6620 - val_accuracy: 0.0247\n",
      "Epoch 6/30\n",
      "172/172 [==============================] - 2044s 12s/step - loss: 2.9590 - accuracy: 0.8772 - val_loss: 45.7738 - val_accuracy: 0.0055\n",
      "Epoch 7/30\n",
      "172/172 [==============================] - 2064s 12s/step - loss: 2.8462 - accuracy: 0.8865 - val_loss: 49.8520 - val_accuracy: 0.0165\n",
      "Epoch 8/30\n",
      "172/172 [==============================] - 2120s 12s/step - loss: 2.8337 - accuracy: 0.8900 - val_loss: 48.6804 - val_accuracy: 0.0315\n",
      "Epoch 9/30\n",
      "172/172 [==============================] - 2049s 12s/step - loss: 2.9417 - accuracy: 0.8904 - val_loss: 50.8641 - val_accuracy: 0.0042\n",
      "Epoch 10/30\n",
      "172/172 [==============================] - 2073s 12s/step - loss: 3.0966 - accuracy: 0.8932 - val_loss: 67.9901 - val_accuracy: 0.0342\n",
      "Epoch 11/30\n",
      "172/172 [==============================] - 2058s 12s/step - loss: 2.7246 - accuracy: 0.9026 - val_loss: 69.2456 - val_accuracy: 0.0325\n",
      "Epoch 12/30\n",
      "172/172 [==============================] - 2064s 12s/step - loss: 2.7540 - accuracy: 0.9038 - val_loss: 65.5915 - val_accuracy: 0.0367\n",
      "Epoch 13/30\n",
      "172/172 [==============================] - 2162s 13s/step - loss: 2.8078 - accuracy: 0.9063 - val_loss: 70.4709 - val_accuracy: 0.0332\n",
      "Epoch 14/30\n",
      "172/172 [==============================] - 2049s 12s/step - loss: 2.8369 - accuracy: 0.9069 - val_loss: 70.4145 - val_accuracy: 0.0350\n",
      "Epoch 15/30\n",
      "172/172 [==============================] - 2075s 12s/step - loss: 2.8628 - accuracy: 0.9083 - val_loss: 71.0844 - val_accuracy: 0.0357\n",
      "Epoch 16/30\n",
      "172/172 [==============================] - 2054s 12s/step - loss: 2.8346 - accuracy: 0.9108 - val_loss: 80.6510 - val_accuracy: 0.0327\n",
      "Epoch 17/30\n",
      "172/172 [==============================] - 2056s 12s/step - loss: 2.9394 - accuracy: 0.9113 - val_loss: 75.8254 - val_accuracy: 0.0340\n",
      "Epoch 18/30\n",
      "172/172 [==============================] - 2072s 12s/step - loss: 2.8318 - accuracy: 0.9143 - val_loss: 75.2637 - val_accuracy: 0.0350\n",
      "Epoch 19/30\n",
      "172/172 [==============================] - 2053s 12s/step - loss: 2.7743 - accuracy: 0.9147 - val_loss: 78.0032 - val_accuracy: 0.0350\n",
      "Epoch 20/30\n",
      "172/172 [==============================] - 2061s 12s/step - loss: 2.8560 - accuracy: 0.9162 - val_loss: 101.6313 - val_accuracy: 0.0345\n",
      "Epoch 21/30\n",
      "172/172 [==============================] - 6114s 36s/step - loss: 2.9367 - accuracy: 0.9162 - val_loss: 90.2630 - val_accuracy: 0.0330\n",
      "Epoch 22/30\n",
      "172/172 [==============================] - 2235s 13s/step - loss: 2.6494 - accuracy: 0.9229 - val_loss: 73.5574 - val_accuracy: 0.0350\n",
      "Epoch 23/30\n",
      "172/172 [==============================] - 2346s 14s/step - loss: 2.9579 - accuracy: 0.9189 - val_loss: 76.4728 - val_accuracy: 0.0280\n",
      "Epoch 24/30\n",
      "172/172 [==============================] - 2058s 12s/step - loss: 2.7764 - accuracy: 0.9210 - val_loss: 82.2743 - val_accuracy: 0.0367\n",
      "Epoch 25/30\n",
      "172/172 [==============================] - 4140s 24s/step - loss: 2.7058 - accuracy: 0.9251 - val_loss: 94.0990 - val_accuracy: 0.0332\n",
      "Epoch 26/30\n",
      "172/172 [==============================] - 2062s 12s/step - loss: 2.7873 - accuracy: 0.9243 - val_loss: 95.0255 - val_accuracy: 0.0337\n",
      "Epoch 27/30\n",
      "172/172 [==============================] - 2087s 12s/step - loss: 2.7060 - accuracy: 0.9284 - val_loss: 103.1414 - val_accuracy: 0.0342\n",
      "Epoch 28/30\n",
      "172/172 [==============================] - 2067s 12s/step - loss: 2.6580 - accuracy: 0.9272 - val_loss: 113.0813 - val_accuracy: 0.0357\n",
      "Epoch 29/30\n",
      "172/172 [==============================] - 2071s 12s/step - loss: 2.7246 - accuracy: 0.9275 - val_loss: 108.7714 - val_accuracy: 0.0350\n",
      "Epoch 30/30\n",
      "172/172 [==============================] - 2094s 12s/step - loss: 2.6774 - accuracy: 0.9299 - val_loss: 113.5426 - val_accuracy: 0.0347\n"
     ]
    }
   ],
   "source": [
    "# do not rerun\n",
    "t_steps = 22110 // 128\n",
    "v_steps = 4132 // 128\n",
    "history = model.fit_generator(train_generator, \n",
    "                              epochs=30, \n",
    "                              workers = 4,\n",
    "                              use_multiprocessing=True,\n",
    "                              steps_per_epoch=t_steps, \n",
    "                              validation_data=validation_generator,\n",
    "                              validation_steps=v_steps,\n",
    "                             )"
   ]
  },
  {
   "cell_type": "code",
   "execution_count": 10,
   "metadata": {},
   "outputs": [],
   "source": [
    "model.save('resnet_cropdisease.h5')"
   ]
  },
  {
   "cell_type": "code",
   "execution_count": 11,
   "metadata": {},
   "outputs": [],
   "source": [
    "import matplotlib.pyplot as plt\n"
   ]
  },
  {
   "cell_type": "code",
   "execution_count": 13,
   "metadata": {},
   "outputs": [
    {
     "data": {
      "image/png": "[encoded data removed]",
      "text/plain": [
       "<Figure size 432x288 with 1 Axes>"
      ]
     },
     "metadata": {
      "needs_background": "light"
     },
     "output_type": "display_data"
    }
   ],
   "source": [
    "plt.plot(history.history['accuracy'])\n",
    "plt.plot(history.history['val_accuracy'])\n",
    "plt.title('model accuracy')\n",
    "plt.ylabel('accuracy')\n",
    "plt.xlabel('epoch')\n",
    "plt.legend(['train', 'test'], loc='upper left')\n",
    "plt.show()"
   ]
  },
  {
   "cell_type": "code",
   "execution_count": 14,
   "metadata": {},
   "outputs": [
    {
     "data": {
      "image/png": "[encoded data removed]",
      "text/plain": [
       "<Figure size 432x288 with 1 Axes>"
      ]
     },
     "metadata": {
      "needs_background": "light"
     },
     "output_type": "display_data"
    }
   ],
   "source": [
    "\n",
    "plt.plot(history.history['loss'])\n",
    "plt.plot(history.history['val_loss'])\n",
    "plt.title('model loss')\n",
    "plt.ylabel('loss')\n",
    "plt.xlabel('epoch')\n",
    "plt.legend(['train', 'test'], loc='upper left')\n",
    "plt.show()"
   ]
  },
  {
   "cell_type": "code",
   "execution_count": null,
   "metadata": {},
   "outputs": [],
   "source": []
  }
 ],
 "metadata": {
  "kernelspec": {
   "display_name": "Python 3",
   "language": "python",
   "name": "python3"
  },
  "language_info": {
   "codemirror_mode": {
    "name": "ipython",
    "version": 3
   },
   "file_extension": ".py",
   "mimetype": "text/x-python",
   "name": "python",
   "nbconvert_exporter": "python",
   "pygments_lexer": "ipython3",
   "version": "3.7.4"
  }
 },
 "nbformat": 4,
 "nbformat_minor": 2
}
